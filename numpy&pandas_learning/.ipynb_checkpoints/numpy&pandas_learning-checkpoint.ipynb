{
 "cells": [
  {
   "cell_type": "code",
   "execution_count": 1,
   "metadata": {},
   "outputs": [],
   "source": [
    "import numpy as np"
   ]
  },
  {
   "cell_type": "code",
   "execution_count": 6,
   "metadata": {},
   "outputs": [
    {
     "name": "stdout",
     "output_type": "stream",
     "text": [
      "[[1 2 3]\n",
      " [2 3 4]\n",
      " [3 4 5]]\n",
      "number of dim: 2\n",
      "shape (3, 3)\n",
      "size 9\n"
     ]
    }
   ],
   "source": [
    "#定义数组\n",
    "array = np.array([[1,2,3],\n",
    "                 [2,3,4],\n",
    "                 [3,4,5]])\n",
    "print(array)\n",
    "#数组的维度\n",
    "print('number of dim:',array.ndim)\n",
    "#数组的数组\n",
    "print('shape',array.shape)\n",
    "#数组的大小\n",
    "print('size',array.size)\n"
   ]
  }
 ],
 "metadata": {
  "kernelspec": {
   "display_name": "Python 3",
   "language": "python",
   "name": "python3"
  },
  "language_info": {
   "codemirror_mode": {
    "name": "ipython",
    "version": 3
   },
   "file_extension": ".py",
   "mimetype": "text/x-python",
   "name": "python",
   "nbconvert_exporter": "python",
   "pygments_lexer": "ipython3",
   "version": "3.7.1"
  }
 },
 "nbformat": 4,
 "nbformat_minor": 2
}
